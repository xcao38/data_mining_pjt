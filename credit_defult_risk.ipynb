{
 "cells": [
  {
   "cell_type": "code",
   "execution_count": 1,
   "metadata": {},
   "outputs": [],
   "source": [
    "import pandas as pd\n",
    "import os\n",
    "import matplotlib.pyplot as plt\n",
    "from indoorplants.analysis import exploratory\n",
    "\n",
    "%matplotlib inline"
   ]
  },
  {
   "cell_type": "markdown",
   "metadata": {},
   "source": [
    "# 1.0 Exploratory Data Analysis\n"
   ]
  },
  {
   "cell_type": "code",
   "execution_count": 2,
   "metadata": {},
   "outputs": [],
   "source": [
    "data_path = os.path.join(os.getcwd(),\"home-credit-default-risk\")"
   ]
  },
  {
   "cell_type": "code",
   "execution_count": 3,
   "metadata": {},
   "outputs": [],
   "source": [
    "plt.style.use(\"seaborn-poster\")"
   ]
  },
  {
   "cell_type": "code",
   "execution_count": 4,
   "metadata": {},
   "outputs": [],
   "source": [
    "def clean_column_names(table):\n",
    "    table.columns = table.columns.str.replace(r'[^\\w\\s]','') \n",
    "    table.columns = table.columns.str.strip().str.replace(' ','_').str.lower()\n",
    "    return table"
   ]
  },
  {
   "cell_type": "markdown",
   "metadata": {},
   "source": [
    "## 1.1 Application_Train"
   ]
  },
  {
   "cell_type": "markdown",
   "metadata": {},
   "source": [
    "### 1.1.1 Shape"
   ]
  },
  {
   "cell_type": "code",
   "execution_count": 5,
   "metadata": {},
   "outputs": [],
   "source": [
    "app_train = pd.read_csv(os.path.join(data_path,\"application_train.csv\"))"
   ]
  },
  {
   "cell_type": "code",
   "execution_count": 6,
   "metadata": {},
   "outputs": [],
   "source": [
    "app_train = clean_column_names(app_train)"
   ]
  },
  {
   "cell_type": "code",
   "execution_count": 7,
   "metadata": {},
   "outputs": [
    {
     "data": {
      "text/plain": [
       "Index(['sk_id_curr', 'target', 'name_contract_type', 'code_gender',\n",
       "       'flag_own_car', 'flag_own_realty', 'cnt_children', 'amt_income_total',\n",
       "       'amt_credit', 'amt_annuity',\n",
       "       ...\n",
       "       'flag_document_18', 'flag_document_19', 'flag_document_20',\n",
       "       'flag_document_21', 'amt_req_credit_bureau_hour',\n",
       "       'amt_req_credit_bureau_day', 'amt_req_credit_bureau_week',\n",
       "       'amt_req_credit_bureau_mon', 'amt_req_credit_bureau_qrt',\n",
       "       'amt_req_credit_bureau_year'],\n",
       "      dtype='object', length=122)"
      ]
     },
     "execution_count": 7,
     "metadata": {},
     "output_type": "execute_result"
    }
   ],
   "source": [
    "app_train.columns"
   ]
  },
  {
   "cell_type": "code",
   "execution_count": 8,
   "metadata": {},
   "outputs": [
    {
     "data": {
      "text/plain": [
       "(307511, 122)"
      ]
     },
     "execution_count": 8,
     "metadata": {},
     "output_type": "execute_result"
    }
   ],
   "source": [
    "app_train.shape"
   ]
  },
  {
   "cell_type": "markdown",
   "metadata": {},
   "source": [
    "**Notes:**\n",
    "\n",
    "There are 121 features in the application training data. \n",
    "`target` is the label we want to predict. \n",
    "\n",
    "- 1 -  the loan was not repaid\n",
    "- 0 - the loan was repaid"
   ]
  },
  {
   "cell_type": "code",
   "execution_count": 9,
   "metadata": {},
   "outputs": [
    {
     "data": {
      "text/plain": [
       "0    282686\n",
       "1     24825\n",
       "Name: target, dtype: int64"
      ]
     },
     "execution_count": 9,
     "metadata": {},
     "output_type": "execute_result"
    }
   ],
   "source": [
    "app_train.target.value_counts()"
   ]
  },
  {
   "cell_type": "code",
   "execution_count": 10,
   "metadata": {},
   "outputs": [
    {
     "data": {
      "text/plain": [
       "0    0.919271\n",
       "1    0.080729\n",
       "Name: target, dtype: float64"
      ]
     },
     "execution_count": 10,
     "metadata": {},
     "output_type": "execute_result"
    }
   ],
   "source": [
    "app_train.target.value_counts(normalize = True)"
   ]
  },
  {
   "cell_type": "markdown",
   "metadata": {},
   "source": [
    "We can tell that there are around 92% of the examples in the positive class (0) and there are around 8% of examples in the negative class (1)."
   ]
  },
  {
   "cell_type": "markdown",
   "metadata": {},
   "source": [
    "### 1.1.2 Nulls"
   ]
  },
  {
   "cell_type": "code",
   "execution_count": 11,
   "metadata": {},
   "outputs": [],
   "source": [
    "def get_null_stats(table):\n",
    "    null_stats = table.isnull().sum().to_frame()\n",
    "    null_stats = null_stats[(null_stats!=0).all(axis = 1)]\n",
    "    null_stats.columns = ['num_of_null']\n",
    "    null_stats['normalize_of_null'] = null_stats['num_of_null']/len(table)\n",
    "    null_stats = null_stats.sort_values(by='num_of_null',ascending = False)\n",
    "    return null_stats"
   ]
  },
  {
   "cell_type": "code",
   "execution_count": 12,
   "metadata": {},
   "outputs": [
    {
     "data": {
      "text/html": [
       "<div>\n",
       "<style scoped>\n",
       "    .dataframe tbody tr th:only-of-type {\n",
       "        vertical-align: middle;\n",
       "    }\n",
       "\n",
       "    .dataframe tbody tr th {\n",
       "        vertical-align: top;\n",
       "    }\n",
       "\n",
       "    .dataframe thead th {\n",
       "        text-align: right;\n",
       "    }\n",
       "</style>\n",
       "<table border=\"1\" class=\"dataframe\">\n",
       "  <thead>\n",
       "    <tr style=\"text-align: right;\">\n",
       "      <th></th>\n",
       "      <th>num_of_null</th>\n",
       "      <th>normalize_of_null</th>\n",
       "    </tr>\n",
       "  </thead>\n",
       "  <tbody>\n",
       "    <tr>\n",
       "      <th>commonarea_medi</th>\n",
       "      <td>214865</td>\n",
       "      <td>0.698723</td>\n",
       "    </tr>\n",
       "    <tr>\n",
       "      <th>commonarea_avg</th>\n",
       "      <td>214865</td>\n",
       "      <td>0.698723</td>\n",
       "    </tr>\n",
       "    <tr>\n",
       "      <th>commonarea_mode</th>\n",
       "      <td>214865</td>\n",
       "      <td>0.698723</td>\n",
       "    </tr>\n",
       "    <tr>\n",
       "      <th>nonlivingapartments_medi</th>\n",
       "      <td>213514</td>\n",
       "      <td>0.694330</td>\n",
       "    </tr>\n",
       "    <tr>\n",
       "      <th>nonlivingapartments_mode</th>\n",
       "      <td>213514</td>\n",
       "      <td>0.694330</td>\n",
       "    </tr>\n",
       "    <tr>\n",
       "      <th>nonlivingapartments_avg</th>\n",
       "      <td>213514</td>\n",
       "      <td>0.694330</td>\n",
       "    </tr>\n",
       "    <tr>\n",
       "      <th>fondkapremont_mode</th>\n",
       "      <td>210295</td>\n",
       "      <td>0.683862</td>\n",
       "    </tr>\n",
       "    <tr>\n",
       "      <th>livingapartments_mode</th>\n",
       "      <td>210199</td>\n",
       "      <td>0.683550</td>\n",
       "    </tr>\n",
       "    <tr>\n",
       "      <th>livingapartments_medi</th>\n",
       "      <td>210199</td>\n",
       "      <td>0.683550</td>\n",
       "    </tr>\n",
       "    <tr>\n",
       "      <th>livingapartments_avg</th>\n",
       "      <td>210199</td>\n",
       "      <td>0.683550</td>\n",
       "    </tr>\n",
       "    <tr>\n",
       "      <th>floorsmin_mode</th>\n",
       "      <td>208642</td>\n",
       "      <td>0.678486</td>\n",
       "    </tr>\n",
       "    <tr>\n",
       "      <th>floorsmin_medi</th>\n",
       "      <td>208642</td>\n",
       "      <td>0.678486</td>\n",
       "    </tr>\n",
       "    <tr>\n",
       "      <th>floorsmin_avg</th>\n",
       "      <td>208642</td>\n",
       "      <td>0.678486</td>\n",
       "    </tr>\n",
       "    <tr>\n",
       "      <th>years_build_mode</th>\n",
       "      <td>204488</td>\n",
       "      <td>0.664978</td>\n",
       "    </tr>\n",
       "    <tr>\n",
       "      <th>years_build_medi</th>\n",
       "      <td>204488</td>\n",
       "      <td>0.664978</td>\n",
       "    </tr>\n",
       "    <tr>\n",
       "      <th>years_build_avg</th>\n",
       "      <td>204488</td>\n",
       "      <td>0.664978</td>\n",
       "    </tr>\n",
       "    <tr>\n",
       "      <th>own_car_age</th>\n",
       "      <td>202929</td>\n",
       "      <td>0.659908</td>\n",
       "    </tr>\n",
       "    <tr>\n",
       "      <th>landarea_avg</th>\n",
       "      <td>182590</td>\n",
       "      <td>0.593767</td>\n",
       "    </tr>\n",
       "    <tr>\n",
       "      <th>landarea_medi</th>\n",
       "      <td>182590</td>\n",
       "      <td>0.593767</td>\n",
       "    </tr>\n",
       "    <tr>\n",
       "      <th>landarea_mode</th>\n",
       "      <td>182590</td>\n",
       "      <td>0.593767</td>\n",
       "    </tr>\n",
       "  </tbody>\n",
       "</table>\n",
       "</div>"
      ],
      "text/plain": [
       "                          num_of_null  normalize_of_null\n",
       "commonarea_medi                214865           0.698723\n",
       "commonarea_avg                 214865           0.698723\n",
       "commonarea_mode                214865           0.698723\n",
       "nonlivingapartments_medi       213514           0.694330\n",
       "nonlivingapartments_mode       213514           0.694330\n",
       "nonlivingapartments_avg        213514           0.694330\n",
       "fondkapremont_mode             210295           0.683862\n",
       "livingapartments_mode          210199           0.683550\n",
       "livingapartments_medi          210199           0.683550\n",
       "livingapartments_avg           210199           0.683550\n",
       "floorsmin_mode                 208642           0.678486\n",
       "floorsmin_medi                 208642           0.678486\n",
       "floorsmin_avg                  208642           0.678486\n",
       "years_build_mode               204488           0.664978\n",
       "years_build_medi               204488           0.664978\n",
       "years_build_avg                204488           0.664978\n",
       "own_car_age                    202929           0.659908\n",
       "landarea_avg                   182590           0.593767\n",
       "landarea_medi                  182590           0.593767\n",
       "landarea_mode                  182590           0.593767"
      ]
     },
     "execution_count": 12,
     "metadata": {},
     "output_type": "execute_result"
    }
   ],
   "source": [
    "null_stats = get_null_stats(table=app_train)\n",
    "null_stats[:20]"
   ]
  },
  {
   "cell_type": "markdown",
   "metadata": {},
   "source": [
    "**Notes:**\n",
    "\n",
    "- I found that there are large amount of information about the clients are null (more than 50%). \n",
    "- This could be that the info of clients buildings are hard to get. \n",
    "\n",
    "- Therefore, building informations may not be ideal features to predict the default probability."
   ]
  },
  {
   "cell_type": "markdown",
   "metadata": {},
   "source": [
    "### 1.1.3 Duplicates"
   ]
  },
  {
   "cell_type": "code",
   "execution_count": 13,
   "metadata": {},
   "outputs": [
    {
     "data": {
      "text/plain": [
       "0"
      ]
     },
     "execution_count": 13,
     "metadata": {},
     "output_type": "execute_result"
    }
   ],
   "source": [
    "app_train.duplicated().sum()"
   ]
  },
  {
   "cell_type": "markdown",
   "metadata": {},
   "source": [
    "There is NO duplicated examples in the training table."
   ]
  },
  {
   "cell_type": "markdown",
   "metadata": {},
   "source": [
    "### 1.1.4 Features"
   ]
  },
  {
   "cell_type": "code",
   "execution_count": 14,
   "metadata": {},
   "outputs": [],
   "source": [
    "columns_list = app_train.columns.tolist()"
   ]
  },
  {
   "cell_type": "code",
   "execution_count": 15,
   "metadata": {},
   "outputs": [],
   "source": [
    "columns_type = app_train.dtypes.to_frame()"
   ]
  },
  {
   "cell_type": "code",
   "execution_count": 16,
   "metadata": {},
   "outputs": [],
   "source": [
    "columns_type.columns = ['data_type']"
   ]
  },
  {
   "cell_type": "code",
   "execution_count": 17,
   "metadata": {},
   "outputs": [
    {
     "data": {
      "text/plain": [
       "float64    65\n",
       "int64      41\n",
       "object     16\n",
       "Name: data_type, dtype: int64"
      ]
     },
     "execution_count": 17,
     "metadata": {},
     "output_type": "execute_result"
    }
   ],
   "source": [
    "columns_type.data_type.value_counts()"
   ]
  },
  {
   "cell_type": "markdown",
   "metadata": {},
   "source": [
    "Let's particularly take a look at the features with `object` type."
   ]
  },
  {
   "cell_type": "code",
   "execution_count": 18,
   "metadata": {},
   "outputs": [
    {
     "data": {
      "text/plain": [
       "['name_contract_type',\n",
       " 'code_gender',\n",
       " 'flag_own_car',\n",
       " 'flag_own_realty',\n",
       " 'name_type_suite',\n",
       " 'name_income_type',\n",
       " 'name_education_type',\n",
       " 'name_family_status',\n",
       " 'name_housing_type',\n",
       " 'occupation_type',\n",
       " 'weekday_appr_process_start',\n",
       " 'organization_type',\n",
       " 'fondkapremont_mode',\n",
       " 'housetype_mode',\n",
       " 'wallsmaterial_mode',\n",
       " 'emergencystate_mode']"
      ]
     },
     "execution_count": 18,
     "metadata": {},
     "output_type": "execute_result"
    }
   ],
   "source": [
    "object_columns = columns_type[columns_type.data_type == 'object'].index.tolist()\n",
    "object_columns"
   ]
  },
  {
   "cell_type": "code",
   "execution_count": 19,
   "metadata": {
    "scrolled": true
   },
   "outputs": [
    {
     "name": "stdout",
     "output_type": "stream",
     "text": [
      "\n",
      " name_contract_type \n",
      "\n",
      "Cash loans         278232\n",
      "Revolving loans     29279\n",
      "Name: name_contract_type, dtype: int64\n",
      "\n",
      " code_gender \n",
      "\n",
      "F      202448\n",
      "M      105059\n",
      "XNA         4\n",
      "Name: code_gender, dtype: int64\n",
      "\n",
      " flag_own_car \n",
      "\n",
      "N    202924\n",
      "Y    104587\n",
      "Name: flag_own_car, dtype: int64\n",
      "\n",
      " flag_own_realty \n",
      "\n",
      "Y    213312\n",
      "N     94199\n",
      "Name: flag_own_realty, dtype: int64\n",
      "\n",
      " name_type_suite \n",
      "\n",
      "Unaccompanied      248526\n",
      "Family              40149\n",
      "Spouse, partner     11370\n",
      "Children             3267\n",
      "Other_B              1770\n",
      "Other_A               866\n",
      "Group of people       271\n",
      "Name: name_type_suite, dtype: int64\n",
      "\n",
      " name_income_type \n",
      "\n",
      "Working                 158774\n",
      "Commercial associate     71617\n",
      "Pensioner                55362\n",
      "State servant            21703\n",
      "Unemployed                  22\n",
      "Student                     18\n",
      "Businessman                 10\n",
      "Maternity leave              5\n",
      "Name: name_income_type, dtype: int64\n",
      "\n",
      " name_education_type \n",
      "\n",
      "Secondary / secondary special    218391\n",
      "Higher education                  74863\n",
      "Incomplete higher                 10277\n",
      "Lower secondary                    3816\n",
      "Academic degree                     164\n",
      "Name: name_education_type, dtype: int64\n",
      "\n",
      " name_family_status \n",
      "\n",
      "Married                 196432\n",
      "Single / not married     45444\n",
      "Civil marriage           29775\n",
      "Separated                19770\n",
      "Widow                    16088\n",
      "Unknown                      2\n",
      "Name: name_family_status, dtype: int64\n",
      "\n",
      " name_housing_type \n",
      "\n",
      "House / apartment      272868\n",
      "With parents            14840\n",
      "Municipal apartment     11183\n",
      "Rented apartment         4881\n",
      "Office apartment         2617\n",
      "Co-op apartment          1122\n",
      "Name: name_housing_type, dtype: int64\n",
      "\n",
      " occupation_type \n",
      "\n",
      "Laborers                 55186\n",
      "Sales staff              32102\n",
      "Core staff               27570\n",
      "Managers                 21371\n",
      "Drivers                  18603\n",
      "High skill tech staff    11380\n",
      "Accountants               9813\n",
      "Medicine staff            8537\n",
      "Security staff            6721\n",
      "Cooking staff             5946\n",
      "Cleaning staff            4653\n",
      "Private service staff     2652\n",
      "Low-skill Laborers        2093\n",
      "Waiters/barmen staff      1348\n",
      "Secretaries               1305\n",
      "Realty agents              751\n",
      "HR staff                   563\n",
      "IT staff                   526\n",
      "Name: occupation_type, dtype: int64\n",
      "\n",
      " weekday_appr_process_start \n",
      "\n",
      "TUESDAY      53901\n",
      "WEDNESDAY    51934\n",
      "MONDAY       50714\n",
      "THURSDAY     50591\n",
      "FRIDAY       50338\n",
      "SATURDAY     33852\n",
      "SUNDAY       16181\n",
      "Name: weekday_appr_process_start, dtype: int64\n",
      "\n",
      " organization_type \n",
      "\n",
      "Business Entity Type 3    67992\n",
      "XNA                       55374\n",
      "Self-employed             38412\n",
      "Other                     16683\n",
      "Medicine                  11193\n",
      "Business Entity Type 2    10553\n",
      "Government                10404\n",
      "School                     8893\n",
      "Trade: type 7              7831\n",
      "Kindergarten               6880\n",
      "Construction               6721\n",
      "Business Entity Type 1     5984\n",
      "Transport: type 4          5398\n",
      "Trade: type 3              3492\n",
      "Industry: type 9           3368\n",
      "Industry: type 3           3278\n",
      "Security                   3247\n",
      "Housing                    2958\n",
      "Industry: type 11          2704\n",
      "Military                   2634\n",
      "Bank                       2507\n",
      "Agriculture                2454\n",
      "Police                     2341\n",
      "Transport: type 2          2204\n",
      "Postal                     2157\n",
      "Security Ministries        1974\n",
      "Trade: type 2              1900\n",
      "Restaurant                 1811\n",
      "Services                   1575\n",
      "University                 1327\n",
      "Industry: type 7           1307\n",
      "Transport: type 3          1187\n",
      "Industry: type 1           1039\n",
      "Hotel                       966\n",
      "Electricity                 950\n",
      "Industry: type 4            877\n",
      "Trade: type 6               631\n",
      "Industry: type 5            599\n",
      "Insurance                   597\n",
      "Telecom                     577\n",
      "Emergency                   560\n",
      "Industry: type 2            458\n",
      "Advertising                 429\n",
      "Realtor                     396\n",
      "Culture                     379\n",
      "Industry: type 12           369\n",
      "Trade: type 1               348\n",
      "Mobile                      317\n",
      "Legal Services              305\n",
      "Cleaning                    260\n",
      "Transport: type 1           201\n",
      "Industry: type 6            112\n",
      "Industry: type 10           109\n",
      "Religion                     85\n",
      "Industry: type 13            67\n",
      "Trade: type 4                64\n",
      "Trade: type 5                49\n",
      "Industry: type 8             24\n",
      "Name: organization_type, dtype: int64\n",
      "\n",
      " fondkapremont_mode \n",
      "\n",
      "reg oper account         73830\n",
      "reg oper spec account    12080\n",
      "not specified             5687\n",
      "org spec account          5619\n",
      "Name: fondkapremont_mode, dtype: int64\n",
      "\n",
      " housetype_mode \n",
      "\n",
      "block of flats      150503\n",
      "specific housing      1499\n",
      "terraced house        1212\n",
      "Name: housetype_mode, dtype: int64\n",
      "\n",
      " wallsmaterial_mode \n",
      "\n",
      "Panel           66040\n",
      "Stone, brick    64815\n",
      "Block            9253\n",
      "Wooden           5362\n",
      "Mixed            2296\n",
      "Monolithic       1779\n",
      "Others           1625\n",
      "Name: wallsmaterial_mode, dtype: int64\n",
      "\n",
      " emergencystate_mode \n",
      "\n",
      "No     159428\n",
      "Yes      2328\n",
      "Name: emergencystate_mode, dtype: int64\n"
     ]
    }
   ],
   "source": [
    "for i in object_columns:\n",
    "    print('\\n',i,'\\n')\n",
    "    print(app_train[i].value_counts())"
   ]
  },
  {
   "cell_type": "markdown",
   "metadata": {},
   "source": [
    "**Notes**\n",
    "- Interesting information\n",
    "- We will need to use one hot encoding for modelling later"
   ]
  },
  {
   "cell_type": "markdown",
   "metadata": {},
   "source": [
    "#### 1.1.4.1 Number of Enquiries to Credit Bureau"
   ]
  },
  {
   "cell_type": "code",
   "execution_count": 20,
   "metadata": {},
   "outputs": [
    {
     "data": {
      "text/plain": [
       "['amt_req_credit_bureau_hour',\n",
       " 'amt_req_credit_bureau_day',\n",
       " 'amt_req_credit_bureau_week',\n",
       " 'amt_req_credit_bureau_mon',\n",
       " 'amt_req_credit_bureau_qrt',\n",
       " 'amt_req_credit_bureau_year']"
      ]
     },
     "execution_count": 20,
     "metadata": {},
     "output_type": "execute_result"
    }
   ],
   "source": [
    "bureau_list =[i for i in columns_list if 'bureau' in i]\n",
    "bureau_list"
   ]
  },
  {
   "cell_type": "markdown",
   "metadata": {},
   "source": [
    "**Data Description**\n",
    "- Number of enquiries to Credit Bureau about the client one hour before application\n",
    "- Number of enquiries to Credit Bureau about the client one day before application (excluding one hour before application)\n",
    "- Number of enquiries to Credit Bureau about the client one week before application (excluding one day before application)\n",
    "- Number of enquiries to Credit Bureau about the client one month before application (excluding one week before application)\n",
    "- Number of enquiries to Credit Bureau about the client 3 month before application (excluding one month before application)\n",
    "- Number of enquiries to Credit Bureau about the client one day year (excluding last 3 months before application)"
   ]
  },
  {
   "cell_type": "code",
   "execution_count": 21,
   "metadata": {
    "scrolled": true
   },
   "outputs": [
    {
     "name": "stdout",
     "output_type": "stream",
     "text": [
      "0.0    264366\n",
      "1.0      1560\n",
      "2.0        56\n",
      "3.0         9\n",
      "4.0         1\n",
      "Name: amt_req_credit_bureau_hour, dtype: int64\n",
      "0.0    264503\n",
      "1.0      1292\n",
      "2.0       106\n",
      "3.0        45\n",
      "4.0        26\n",
      "5.0         9\n",
      "6.0         8\n",
      "9.0         2\n",
      "8.0         1\n",
      "Name: amt_req_credit_bureau_day, dtype: int64\n",
      "0.0    257456\n",
      "1.0      8208\n",
      "2.0       199\n",
      "3.0        58\n",
      "4.0        34\n",
      "6.0        20\n",
      "5.0        10\n",
      "8.0         5\n",
      "7.0         2\n",
      "Name: amt_req_credit_bureau_week, dtype: int64\n",
      "0.0     222233\n",
      "1.0      33147\n",
      "2.0       5386\n",
      "3.0       1991\n",
      "4.0       1076\n",
      "5.0        602\n",
      "6.0        343\n",
      "7.0        298\n",
      "9.0        206\n",
      "8.0        185\n",
      "10.0       132\n",
      "11.0       119\n",
      "12.0        77\n",
      "13.0        72\n",
      "14.0        40\n",
      "15.0        35\n",
      "16.0        23\n",
      "17.0        14\n",
      "18.0         6\n",
      "19.0         3\n",
      "24.0         1\n",
      "27.0         1\n",
      "22.0         1\n",
      "23.0         1\n",
      "Name: amt_req_credit_bureau_mon, dtype: int64\n",
      "0.0      215417\n",
      "1.0       33862\n",
      "2.0       14412\n",
      "3.0        1717\n",
      "4.0         476\n",
      "5.0          64\n",
      "6.0          28\n",
      "7.0           7\n",
      "8.0           7\n",
      "19.0          1\n",
      "261.0         1\n",
      "Name: amt_req_credit_bureau_qrt, dtype: int64\n",
      "0.0     71801\n",
      "1.0     63405\n",
      "2.0     50192\n",
      "3.0     33628\n",
      "4.0     20714\n",
      "5.0     12052\n",
      "6.0      6967\n",
      "7.0      3869\n",
      "8.0      2127\n",
      "9.0      1096\n",
      "11.0       31\n",
      "12.0       30\n",
      "10.0       22\n",
      "13.0       19\n",
      "14.0       10\n",
      "17.0        7\n",
      "15.0        6\n",
      "19.0        4\n",
      "18.0        4\n",
      "16.0        3\n",
      "21.0        1\n",
      "23.0        1\n",
      "25.0        1\n",
      "20.0        1\n",
      "22.0        1\n",
      "Name: amt_req_credit_bureau_year, dtype: int64\n"
     ]
    }
   ],
   "source": [
    "for i in bureau_list:\n",
    "    print(app_train[i].value_counts())\n",
    "    "
   ]
  },
  {
   "cell_type": "markdown",
   "metadata": {},
   "source": [
    "#### 1.1.4.2 Clients' Building Information\n"
   ]
  },
  {
   "cell_type": "markdown",
   "metadata": {},
   "source": [
    "**Notes**:\n",
    "\n",
    "Normalized information about building where the client lives, \n",
    "What is average (_AVG suffix), \n",
    "modus (_MODE suffix), \n",
    "median (_MEDI suffix) \n",
    "\n",
    "- apartment size, \n",
    "- common area, \n",
    "- living area, \n",
    "- age of building, \n",
    "- number of elevators, \n",
    "- number of entrances, \n",
    "- state of the building, \n",
    "- number of floor"
   ]
  },
  {
   "cell_type": "code",
   "execution_count": 22,
   "metadata": {},
   "outputs": [
    {
     "data": {
      "text/plain": [
       "['apartments_avg',\n",
       " 'basementarea_avg',\n",
       " 'years_beginexpluatation_avg',\n",
       " 'years_build_avg',\n",
       " 'commonarea_avg',\n",
       " 'elevators_avg',\n",
       " 'entrances_avg',\n",
       " 'floorsmax_avg',\n",
       " 'floorsmin_avg',\n",
       " 'landarea_avg',\n",
       " 'livingapartments_avg',\n",
       " 'livingarea_avg',\n",
       " 'nonlivingapartments_avg',\n",
       " 'nonlivingarea_avg']"
      ]
     },
     "execution_count": 22,
     "metadata": {},
     "output_type": "execute_result"
    }
   ],
   "source": [
    "avg_list = [i for i in app_train.columns if 'avg' in i]\n",
    "avg_list"
   ]
  },
  {
   "cell_type": "code",
   "execution_count": 23,
   "metadata": {},
   "outputs": [],
   "source": [
    "mode_list = [i for i in app_train.columns if 'mode' in i]"
   ]
  },
  {
   "cell_type": "code",
   "execution_count": 24,
   "metadata": {},
   "outputs": [],
   "source": [
    "medi_list = [i for i in app_train.columns if 'medi' in i]"
   ]
  },
  {
   "cell_type": "code",
   "execution_count": null,
   "metadata": {},
   "outputs": [],
   "source": []
  },
  {
   "cell_type": "code",
   "execution_count": null,
   "metadata": {},
   "outputs": [],
   "source": []
  },
  {
   "cell_type": "code",
   "execution_count": null,
   "metadata": {},
   "outputs": [],
   "source": []
  },
  {
   "cell_type": "code",
   "execution_count": null,
   "metadata": {},
   "outputs": [],
   "source": []
  },
  {
   "cell_type": "code",
   "execution_count": null,
   "metadata": {},
   "outputs": [],
   "source": []
  },
  {
   "cell_type": "code",
   "execution_count": null,
   "metadata": {},
   "outputs": [],
   "source": []
  },
  {
   "cell_type": "code",
   "execution_count": null,
   "metadata": {},
   "outputs": [],
   "source": []
  },
  {
   "cell_type": "code",
   "execution_count": null,
   "metadata": {},
   "outputs": [],
   "source": []
  },
  {
   "cell_type": "code",
   "execution_count": null,
   "metadata": {},
   "outputs": [],
   "source": []
  },
  {
   "cell_type": "markdown",
   "metadata": {},
   "source": [
    "## 1.2 bureau.csv"
   ]
  },
  {
   "cell_type": "code",
   "execution_count": 25,
   "metadata": {},
   "outputs": [],
   "source": [
    "bureau = pd.read_csv(os.path.join(data_path,\"bureau.csv\"))"
   ]
  },
  {
   "cell_type": "code",
   "execution_count": 26,
   "metadata": {},
   "outputs": [
    {
     "data": {
      "text/plain": [
       "(1716428, 17)"
      ]
     },
     "execution_count": 26,
     "metadata": {},
     "output_type": "execute_result"
    }
   ],
   "source": [
    "bureau.shape"
   ]
  },
  {
   "cell_type": "code",
   "execution_count": 27,
   "metadata": {},
   "outputs": [],
   "source": [
    "bureau = clean_column_names(bureau)"
   ]
  },
  {
   "cell_type": "code",
   "execution_count": 28,
   "metadata": {},
   "outputs": [
    {
     "data": {
      "text/plain": [
       "Index(['sk_id_curr', 'sk_id_bureau', 'credit_active', 'credit_currency',\n",
       "       'days_credit', 'credit_day_overdue', 'days_credit_enddate',\n",
       "       'days_enddate_fact', 'amt_credit_max_overdue', 'cnt_credit_prolong',\n",
       "       'amt_credit_sum', 'amt_credit_sum_debt', 'amt_credit_sum_limit',\n",
       "       'amt_credit_sum_overdue', 'credit_type', 'days_credit_update',\n",
       "       'amt_annuity'],\n",
       "      dtype='object')"
      ]
     },
     "execution_count": 28,
     "metadata": {},
     "output_type": "execute_result"
    }
   ],
   "source": [
    "bureau.columns"
   ]
  },
  {
   "cell_type": "code",
   "execution_count": 29,
   "metadata": {},
   "outputs": [],
   "source": [
    "null_stats = get_null_stats(table=bureau)"
   ]
  },
  {
   "cell_type": "code",
   "execution_count": 30,
   "metadata": {},
   "outputs": [
    {
     "data": {
      "text/html": [
       "<div>\n",
       "<style scoped>\n",
       "    .dataframe tbody tr th:only-of-type {\n",
       "        vertical-align: middle;\n",
       "    }\n",
       "\n",
       "    .dataframe tbody tr th {\n",
       "        vertical-align: top;\n",
       "    }\n",
       "\n",
       "    .dataframe thead th {\n",
       "        text-align: right;\n",
       "    }\n",
       "</style>\n",
       "<table border=\"1\" class=\"dataframe\">\n",
       "  <thead>\n",
       "    <tr style=\"text-align: right;\">\n",
       "      <th></th>\n",
       "      <th>num_of_null</th>\n",
       "      <th>normalize_of_null</th>\n",
       "    </tr>\n",
       "  </thead>\n",
       "  <tbody>\n",
       "    <tr>\n",
       "      <th>amt_annuity</th>\n",
       "      <td>1226791</td>\n",
       "      <td>0.714735</td>\n",
       "    </tr>\n",
       "    <tr>\n",
       "      <th>amt_credit_max_overdue</th>\n",
       "      <td>1124488</td>\n",
       "      <td>0.655133</td>\n",
       "    </tr>\n",
       "    <tr>\n",
       "      <th>days_enddate_fact</th>\n",
       "      <td>633653</td>\n",
       "      <td>0.369170</td>\n",
       "    </tr>\n",
       "    <tr>\n",
       "      <th>amt_credit_sum_limit</th>\n",
       "      <td>591780</td>\n",
       "      <td>0.344774</td>\n",
       "    </tr>\n",
       "    <tr>\n",
       "      <th>amt_credit_sum_debt</th>\n",
       "      <td>257669</td>\n",
       "      <td>0.150119</td>\n",
       "    </tr>\n",
       "    <tr>\n",
       "      <th>days_credit_enddate</th>\n",
       "      <td>105553</td>\n",
       "      <td>0.061496</td>\n",
       "    </tr>\n",
       "    <tr>\n",
       "      <th>amt_credit_sum</th>\n",
       "      <td>13</td>\n",
       "      <td>0.000008</td>\n",
       "    </tr>\n",
       "  </tbody>\n",
       "</table>\n",
       "</div>"
      ],
      "text/plain": [
       "                        num_of_null  normalize_of_null\n",
       "amt_annuity                 1226791           0.714735\n",
       "amt_credit_max_overdue      1124488           0.655133\n",
       "days_enddate_fact            633653           0.369170\n",
       "amt_credit_sum_limit         591780           0.344774\n",
       "amt_credit_sum_debt          257669           0.150119\n",
       "days_credit_enddate          105553           0.061496\n",
       "amt_credit_sum                   13           0.000008"
      ]
     },
     "execution_count": 30,
     "metadata": {},
     "output_type": "execute_result"
    }
   ],
   "source": [
    "null_stats"
   ]
  },
  {
   "cell_type": "code",
   "execution_count": 31,
   "metadata": {},
   "outputs": [
    {
     "data": {
      "text/plain": [
       "0"
      ]
     },
     "execution_count": 31,
     "metadata": {},
     "output_type": "execute_result"
    }
   ],
   "source": [
    "bureau.duplicated().sum()"
   ]
  },
  {
   "cell_type": "markdown",
   "metadata": {},
   "source": [
    "**Notes:**\n",
    "- `amt_annuity`,`amt_credit_max_overdue`, `days_enddate_fact` and `amt_credit_sum_limit` have more than 30% of entries are null. \n",
    "\n",
    "- There is no duplicated rows in the table `bureau`\n",
    "\n",
    "- `sk_id_bureau`: Recoded ID of previous Credit Bureau credit related to our loan (unique coding for each loan application)"
   ]
  },
  {
   "cell_type": "code",
   "execution_count": 35,
   "metadata": {},
   "outputs": [],
   "source": [
    "# bureau.set_index('sk_id_bureau') "
   ]
  },
  {
   "cell_type": "markdown",
   "metadata": {},
   "source": [
    "## 1.3 bureau_balance.csv"
   ]
  },
  {
   "cell_type": "code",
   "execution_count": 36,
   "metadata": {},
   "outputs": [],
   "source": [
    "bureau_balance = pd.read_csv(os.path.join(data_path,\"bureau_balance.csv\"))"
   ]
  },
  {
   "cell_type": "code",
   "execution_count": 37,
   "metadata": {},
   "outputs": [
    {
     "data": {
      "text/plain": [
       "0"
      ]
     },
     "execution_count": 37,
     "metadata": {},
     "output_type": "execute_result"
    }
   ],
   "source": [
    "bureau_balance.duplicated().sum()"
   ]
  },
  {
   "cell_type": "code",
   "execution_count": 38,
   "metadata": {},
   "outputs": [
    {
     "data": {
      "text/html": [
       "<div>\n",
       "<style scoped>\n",
       "    .dataframe tbody tr th:only-of-type {\n",
       "        vertical-align: middle;\n",
       "    }\n",
       "\n",
       "    .dataframe tbody tr th {\n",
       "        vertical-align: top;\n",
       "    }\n",
       "\n",
       "    .dataframe thead th {\n",
       "        text-align: right;\n",
       "    }\n",
       "</style>\n",
       "<table border=\"1\" class=\"dataframe\">\n",
       "  <thead>\n",
       "    <tr style=\"text-align: right;\">\n",
       "      <th></th>\n",
       "      <th>num_of_null</th>\n",
       "      <th>normalize_of_null</th>\n",
       "    </tr>\n",
       "  </thead>\n",
       "  <tbody>\n",
       "  </tbody>\n",
       "</table>\n",
       "</div>"
      ],
      "text/plain": [
       "Empty DataFrame\n",
       "Columns: [num_of_null, normalize_of_null]\n",
       "Index: []"
      ]
     },
     "execution_count": 38,
     "metadata": {},
     "output_type": "execute_result"
    }
   ],
   "source": [
    "null_stats = get_null_stats(table=bureau_balance)\n",
    "null_stats"
   ]
  },
  {
   "cell_type": "markdown",
   "metadata": {},
   "source": [
    "**Notes:**\n",
    "- There is no duplicates or nulls in the `bureau_balance` table\n"
   ]
  },
  {
   "cell_type": "code",
   "execution_count": 40,
   "metadata": {},
   "outputs": [],
   "source": [
    "bureau_balance = clean_column_names(bureau_balance)"
   ]
  },
  {
   "cell_type": "code",
   "execution_count": 41,
   "metadata": {},
   "outputs": [
    {
     "data": {
      "text/plain": [
       "Index(['sk_id_bureau', 'months_balance', 'status'], dtype='object')"
      ]
     },
     "execution_count": 41,
     "metadata": {},
     "output_type": "execute_result"
    }
   ],
   "source": [
    "bureau_balance.columns"
   ]
  },
  {
   "cell_type": "markdown",
   "metadata": {},
   "source": [
    "**Let's join `bureau_balance`  to `bureau` on `sk_id_bureau`**"
   ]
  },
  {
   "cell_type": "code",
   "execution_count": 45,
   "metadata": {},
   "outputs": [
    {
     "data": {
      "text/html": [
       "<div>\n",
       "<style scoped>\n",
       "    .dataframe tbody tr th:only-of-type {\n",
       "        vertical-align: middle;\n",
       "    }\n",
       "\n",
       "    .dataframe tbody tr th {\n",
       "        vertical-align: top;\n",
       "    }\n",
       "\n",
       "    .dataframe thead th {\n",
       "        text-align: right;\n",
       "    }\n",
       "</style>\n",
       "<table border=\"1\" class=\"dataframe\">\n",
       "  <thead>\n",
       "    <tr style=\"text-align: right;\">\n",
       "      <th></th>\n",
       "      <th>sk_id_curr</th>\n",
       "      <th>sk_id_bureau</th>\n",
       "      <th>credit_active</th>\n",
       "      <th>credit_currency</th>\n",
       "      <th>days_credit</th>\n",
       "      <th>credit_day_overdue</th>\n",
       "      <th>days_credit_enddate</th>\n",
       "      <th>days_enddate_fact</th>\n",
       "      <th>amt_credit_max_overdue</th>\n",
       "      <th>cnt_credit_prolong</th>\n",
       "      <th>amt_credit_sum</th>\n",
       "      <th>amt_credit_sum_debt</th>\n",
       "      <th>amt_credit_sum_limit</th>\n",
       "      <th>amt_credit_sum_overdue</th>\n",
       "      <th>credit_type</th>\n",
       "      <th>days_credit_update</th>\n",
       "      <th>amt_annuity</th>\n",
       "    </tr>\n",
       "  </thead>\n",
       "  <tbody>\n",
       "    <tr>\n",
       "      <th>0</th>\n",
       "      <td>215354</td>\n",
       "      <td>5714462</td>\n",
       "      <td>Closed</td>\n",
       "      <td>currency 1</td>\n",
       "      <td>-497</td>\n",
       "      <td>0</td>\n",
       "      <td>-153.0</td>\n",
       "      <td>-153.0</td>\n",
       "      <td>NaN</td>\n",
       "      <td>0</td>\n",
       "      <td>91323.0</td>\n",
       "      <td>0.0</td>\n",
       "      <td>NaN</td>\n",
       "      <td>0.0</td>\n",
       "      <td>Consumer credit</td>\n",
       "      <td>-131</td>\n",
       "      <td>NaN</td>\n",
       "    </tr>\n",
       "    <tr>\n",
       "      <th>1</th>\n",
       "      <td>215354</td>\n",
       "      <td>5714463</td>\n",
       "      <td>Active</td>\n",
       "      <td>currency 1</td>\n",
       "      <td>-208</td>\n",
       "      <td>0</td>\n",
       "      <td>1075.0</td>\n",
       "      <td>NaN</td>\n",
       "      <td>NaN</td>\n",
       "      <td>0</td>\n",
       "      <td>225000.0</td>\n",
       "      <td>171342.0</td>\n",
       "      <td>NaN</td>\n",
       "      <td>0.0</td>\n",
       "      <td>Credit card</td>\n",
       "      <td>-20</td>\n",
       "      <td>NaN</td>\n",
       "    </tr>\n",
       "    <tr>\n",
       "      <th>2</th>\n",
       "      <td>215354</td>\n",
       "      <td>5714464</td>\n",
       "      <td>Active</td>\n",
       "      <td>currency 1</td>\n",
       "      <td>-203</td>\n",
       "      <td>0</td>\n",
       "      <td>528.0</td>\n",
       "      <td>NaN</td>\n",
       "      <td>NaN</td>\n",
       "      <td>0</td>\n",
       "      <td>464323.5</td>\n",
       "      <td>NaN</td>\n",
       "      <td>NaN</td>\n",
       "      <td>0.0</td>\n",
       "      <td>Consumer credit</td>\n",
       "      <td>-16</td>\n",
       "      <td>NaN</td>\n",
       "    </tr>\n",
       "    <tr>\n",
       "      <th>3</th>\n",
       "      <td>215354</td>\n",
       "      <td>5714465</td>\n",
       "      <td>Active</td>\n",
       "      <td>currency 1</td>\n",
       "      <td>-203</td>\n",
       "      <td>0</td>\n",
       "      <td>NaN</td>\n",
       "      <td>NaN</td>\n",
       "      <td>NaN</td>\n",
       "      <td>0</td>\n",
       "      <td>90000.0</td>\n",
       "      <td>NaN</td>\n",
       "      <td>NaN</td>\n",
       "      <td>0.0</td>\n",
       "      <td>Credit card</td>\n",
       "      <td>-16</td>\n",
       "      <td>NaN</td>\n",
       "    </tr>\n",
       "    <tr>\n",
       "      <th>4</th>\n",
       "      <td>215354</td>\n",
       "      <td>5714466</td>\n",
       "      <td>Active</td>\n",
       "      <td>currency 1</td>\n",
       "      <td>-629</td>\n",
       "      <td>0</td>\n",
       "      <td>1197.0</td>\n",
       "      <td>NaN</td>\n",
       "      <td>77674.5</td>\n",
       "      <td>0</td>\n",
       "      <td>2700000.0</td>\n",
       "      <td>NaN</td>\n",
       "      <td>NaN</td>\n",
       "      <td>0.0</td>\n",
       "      <td>Consumer credit</td>\n",
       "      <td>-21</td>\n",
       "      <td>NaN</td>\n",
       "    </tr>\n",
       "  </tbody>\n",
       "</table>\n",
       "</div>"
      ],
      "text/plain": [
       "   sk_id_curr  sk_id_bureau credit_active credit_currency  days_credit  \\\n",
       "0      215354       5714462        Closed      currency 1         -497   \n",
       "1      215354       5714463        Active      currency 1         -208   \n",
       "2      215354       5714464        Active      currency 1         -203   \n",
       "3      215354       5714465        Active      currency 1         -203   \n",
       "4      215354       5714466        Active      currency 1         -629   \n",
       "\n",
       "   credit_day_overdue  days_credit_enddate  days_enddate_fact  \\\n",
       "0                   0               -153.0             -153.0   \n",
       "1                   0               1075.0                NaN   \n",
       "2                   0                528.0                NaN   \n",
       "3                   0                  NaN                NaN   \n",
       "4                   0               1197.0                NaN   \n",
       "\n",
       "   amt_credit_max_overdue  cnt_credit_prolong  amt_credit_sum  \\\n",
       "0                     NaN                   0         91323.0   \n",
       "1                     NaN                   0        225000.0   \n",
       "2                     NaN                   0        464323.5   \n",
       "3                     NaN                   0         90000.0   \n",
       "4                 77674.5                   0       2700000.0   \n",
       "\n",
       "   amt_credit_sum_debt  amt_credit_sum_limit  amt_credit_sum_overdue  \\\n",
       "0                  0.0                   NaN                     0.0   \n",
       "1             171342.0                   NaN                     0.0   \n",
       "2                  NaN                   NaN                     0.0   \n",
       "3                  NaN                   NaN                     0.0   \n",
       "4                  NaN                   NaN                     0.0   \n",
       "\n",
       "       credit_type  days_credit_update  amt_annuity  \n",
       "0  Consumer credit                -131          NaN  \n",
       "1      Credit card                 -20          NaN  \n",
       "2  Consumer credit                 -16          NaN  \n",
       "3      Credit card                 -16          NaN  \n",
       "4  Consumer credit                 -21          NaN  "
      ]
     },
     "execution_count": 45,
     "metadata": {},
     "output_type": "execute_result"
    }
   ],
   "source": [
    "bureau.head()"
   ]
  },
  {
   "cell_type": "code",
   "execution_count": 47,
   "metadata": {},
   "outputs": [],
   "source": [
    "joined = bureau.set_index('sk_id_bureau').join(bureau_balance.set_index(['sk_id_bureau']))"
   ]
  },
  {
   "cell_type": "code",
   "execution_count": 50,
   "metadata": {},
   "outputs": [],
   "source": [
    "joined_null_stats = get_null_stats(table=joined)"
   ]
  },
  {
   "cell_type": "code",
   "execution_count": 51,
   "metadata": {},
   "outputs": [
    {
     "data": {
      "text/html": [
       "<div>\n",
       "<style scoped>\n",
       "    .dataframe tbody tr th:only-of-type {\n",
       "        vertical-align: middle;\n",
       "    }\n",
       "\n",
       "    .dataframe tbody tr th {\n",
       "        vertical-align: top;\n",
       "    }\n",
       "\n",
       "    .dataframe thead th {\n",
       "        text-align: right;\n",
       "    }\n",
       "</style>\n",
       "<table border=\"1\" class=\"dataframe\">\n",
       "  <thead>\n",
       "    <tr style=\"text-align: right;\">\n",
       "      <th></th>\n",
       "      <th>num_of_null</th>\n",
       "      <th>normalize_of_null</th>\n",
       "    </tr>\n",
       "  </thead>\n",
       "  <tbody>\n",
       "    <tr>\n",
       "      <th>amt_credit_max_overdue</th>\n",
       "      <td>18130741</td>\n",
       "      <td>7.217130e-01</td>\n",
       "    </tr>\n",
       "    <tr>\n",
       "      <th>amt_credit_sum_limit</th>\n",
       "      <td>10671361</td>\n",
       "      <td>4.247846e-01</td>\n",
       "    </tr>\n",
       "    <tr>\n",
       "      <th>amt_annuity</th>\n",
       "      <td>10495530</td>\n",
       "      <td>4.177855e-01</td>\n",
       "    </tr>\n",
       "    <tr>\n",
       "      <th>days_enddate_fact</th>\n",
       "      <td>5978831</td>\n",
       "      <td>2.379936e-01</td>\n",
       "    </tr>\n",
       "    <tr>\n",
       "      <th>amt_credit_sum_debt</th>\n",
       "      <td>4234392</td>\n",
       "      <td>1.685544e-01</td>\n",
       "    </tr>\n",
       "    <tr>\n",
       "      <th>days_credit_enddate</th>\n",
       "      <td>1232569</td>\n",
       "      <td>4.906369e-02</td>\n",
       "    </tr>\n",
       "    <tr>\n",
       "      <th>months_balance</th>\n",
       "      <td>942074</td>\n",
       "      <td>3.750024e-02</td>\n",
       "    </tr>\n",
       "    <tr>\n",
       "      <th>status</th>\n",
       "      <td>942074</td>\n",
       "      <td>3.750024e-02</td>\n",
       "    </tr>\n",
       "    <tr>\n",
       "      <th>amt_credit_sum</th>\n",
       "      <td>13</td>\n",
       "      <td>5.174785e-07</td>\n",
       "    </tr>\n",
       "  </tbody>\n",
       "</table>\n",
       "</div>"
      ],
      "text/plain": [
       "                        num_of_null  normalize_of_null\n",
       "amt_credit_max_overdue     18130741       7.217130e-01\n",
       "amt_credit_sum_limit       10671361       4.247846e-01\n",
       "amt_annuity                10495530       4.177855e-01\n",
       "days_enddate_fact           5978831       2.379936e-01\n",
       "amt_credit_sum_debt         4234392       1.685544e-01\n",
       "days_credit_enddate         1232569       4.906369e-02\n",
       "months_balance               942074       3.750024e-02\n",
       "status                       942074       3.750024e-02\n",
       "amt_credit_sum                   13       5.174785e-07"
      ]
     },
     "execution_count": 51,
     "metadata": {},
     "output_type": "execute_result"
    }
   ],
   "source": [
    "joined_null_stats"
   ]
  },
  {
   "cell_type": "code",
   "execution_count": 53,
   "metadata": {},
   "outputs": [
    {
     "data": {
      "text/html": [
       "<div>\n",
       "<style scoped>\n",
       "    .dataframe tbody tr th:only-of-type {\n",
       "        vertical-align: middle;\n",
       "    }\n",
       "\n",
       "    .dataframe tbody tr th {\n",
       "        vertical-align: top;\n",
       "    }\n",
       "\n",
       "    .dataframe thead th {\n",
       "        text-align: right;\n",
       "    }\n",
       "</style>\n",
       "<table border=\"1\" class=\"dataframe\">\n",
       "  <thead>\n",
       "    <tr style=\"text-align: right;\">\n",
       "      <th></th>\n",
       "      <th>sk_id_curr</th>\n",
       "      <th>credit_active</th>\n",
       "      <th>credit_currency</th>\n",
       "      <th>days_credit</th>\n",
       "      <th>credit_day_overdue</th>\n",
       "      <th>days_credit_enddate</th>\n",
       "      <th>days_enddate_fact</th>\n",
       "      <th>amt_credit_max_overdue</th>\n",
       "      <th>cnt_credit_prolong</th>\n",
       "      <th>amt_credit_sum</th>\n",
       "      <th>amt_credit_sum_debt</th>\n",
       "      <th>amt_credit_sum_limit</th>\n",
       "      <th>amt_credit_sum_overdue</th>\n",
       "      <th>credit_type</th>\n",
       "      <th>days_credit_update</th>\n",
       "      <th>amt_annuity</th>\n",
       "      <th>months_balance</th>\n",
       "      <th>status</th>\n",
       "    </tr>\n",
       "    <tr>\n",
       "      <th>sk_id_bureau</th>\n",
       "      <th></th>\n",
       "      <th></th>\n",
       "      <th></th>\n",
       "      <th></th>\n",
       "      <th></th>\n",
       "      <th></th>\n",
       "      <th></th>\n",
       "      <th></th>\n",
       "      <th></th>\n",
       "      <th></th>\n",
       "      <th></th>\n",
       "      <th></th>\n",
       "      <th></th>\n",
       "      <th></th>\n",
       "      <th></th>\n",
       "      <th></th>\n",
       "      <th></th>\n",
       "      <th></th>\n",
       "    </tr>\n",
       "  </thead>\n",
       "  <tbody>\n",
       "    <tr>\n",
       "      <th>5000000</th>\n",
       "      <td>166497</td>\n",
       "      <td>Closed</td>\n",
       "      <td>currency 1</td>\n",
       "      <td>-2918</td>\n",
       "      <td>0</td>\n",
       "      <td>-2613.0</td>\n",
       "      <td>-2639.0</td>\n",
       "      <td>NaN</td>\n",
       "      <td>0</td>\n",
       "      <td>29443.50</td>\n",
       "      <td>0.00</td>\n",
       "      <td>NaN</td>\n",
       "      <td>0.0</td>\n",
       "      <td>Consumer credit</td>\n",
       "      <td>-2512</td>\n",
       "      <td>NaN</td>\n",
       "      <td>NaN</td>\n",
       "      <td>NaN</td>\n",
       "    </tr>\n",
       "    <tr>\n",
       "      <th>5000001</th>\n",
       "      <td>166497</td>\n",
       "      <td>Closed</td>\n",
       "      <td>currency 1</td>\n",
       "      <td>-1015</td>\n",
       "      <td>0</td>\n",
       "      <td>-831.0</td>\n",
       "      <td>-891.0</td>\n",
       "      <td>2223.855</td>\n",
       "      <td>0</td>\n",
       "      <td>13810.50</td>\n",
       "      <td>0.00</td>\n",
       "      <td>0.0</td>\n",
       "      <td>0.0</td>\n",
       "      <td>Consumer credit</td>\n",
       "      <td>-891</td>\n",
       "      <td>NaN</td>\n",
       "      <td>NaN</td>\n",
       "      <td>NaN</td>\n",
       "    </tr>\n",
       "    <tr>\n",
       "      <th>5000002</th>\n",
       "      <td>166497</td>\n",
       "      <td>Closed</td>\n",
       "      <td>currency 1</td>\n",
       "      <td>-149</td>\n",
       "      <td>0</td>\n",
       "      <td>-26.0</td>\n",
       "      <td>-26.0</td>\n",
       "      <td>0.000</td>\n",
       "      <td>0</td>\n",
       "      <td>13455.00</td>\n",
       "      <td>0.00</td>\n",
       "      <td>0.0</td>\n",
       "      <td>0.0</td>\n",
       "      <td>Consumer credit</td>\n",
       "      <td>-23</td>\n",
       "      <td>NaN</td>\n",
       "      <td>NaN</td>\n",
       "      <td>NaN</td>\n",
       "    </tr>\n",
       "    <tr>\n",
       "      <th>5000003</th>\n",
       "      <td>166497</td>\n",
       "      <td>Closed</td>\n",
       "      <td>currency 1</td>\n",
       "      <td>-135</td>\n",
       "      <td>0</td>\n",
       "      <td>230.0</td>\n",
       "      <td>-42.0</td>\n",
       "      <td>0.000</td>\n",
       "      <td>0</td>\n",
       "      <td>37350.00</td>\n",
       "      <td>0.00</td>\n",
       "      <td>0.0</td>\n",
       "      <td>0.0</td>\n",
       "      <td>Consumer credit</td>\n",
       "      <td>-42</td>\n",
       "      <td>NaN</td>\n",
       "      <td>NaN</td>\n",
       "      <td>NaN</td>\n",
       "    </tr>\n",
       "    <tr>\n",
       "      <th>5000004</th>\n",
       "      <td>166497</td>\n",
       "      <td>Active</td>\n",
       "      <td>currency 1</td>\n",
       "      <td>-47</td>\n",
       "      <td>0</td>\n",
       "      <td>320.0</td>\n",
       "      <td>NaN</td>\n",
       "      <td>0.000</td>\n",
       "      <td>0</td>\n",
       "      <td>315127.62</td>\n",
       "      <td>315127.62</td>\n",
       "      <td>0.0</td>\n",
       "      <td>0.0</td>\n",
       "      <td>Consumer credit</td>\n",
       "      <td>-17</td>\n",
       "      <td>NaN</td>\n",
       "      <td>NaN</td>\n",
       "      <td>NaN</td>\n",
       "    </tr>\n",
       "  </tbody>\n",
       "</table>\n",
       "</div>"
      ],
      "text/plain": [
       "              sk_id_curr credit_active credit_currency  days_credit  \\\n",
       "sk_id_bureau                                                          \n",
       "5000000           166497        Closed      currency 1        -2918   \n",
       "5000001           166497        Closed      currency 1        -1015   \n",
       "5000002           166497        Closed      currency 1         -149   \n",
       "5000003           166497        Closed      currency 1         -135   \n",
       "5000004           166497        Active      currency 1          -47   \n",
       "\n",
       "              credit_day_overdue  days_credit_enddate  days_enddate_fact  \\\n",
       "sk_id_bureau                                                               \n",
       "5000000                        0              -2613.0            -2639.0   \n",
       "5000001                        0               -831.0             -891.0   \n",
       "5000002                        0                -26.0              -26.0   \n",
       "5000003                        0                230.0              -42.0   \n",
       "5000004                        0                320.0                NaN   \n",
       "\n",
       "              amt_credit_max_overdue  cnt_credit_prolong  amt_credit_sum  \\\n",
       "sk_id_bureau                                                               \n",
       "5000000                          NaN                   0        29443.50   \n",
       "5000001                     2223.855                   0        13810.50   \n",
       "5000002                        0.000                   0        13455.00   \n",
       "5000003                        0.000                   0        37350.00   \n",
       "5000004                        0.000                   0       315127.62   \n",
       "\n",
       "              amt_credit_sum_debt  amt_credit_sum_limit  \\\n",
       "sk_id_bureau                                              \n",
       "5000000                      0.00                   NaN   \n",
       "5000001                      0.00                   0.0   \n",
       "5000002                      0.00                   0.0   \n",
       "5000003                      0.00                   0.0   \n",
       "5000004                 315127.62                   0.0   \n",
       "\n",
       "              amt_credit_sum_overdue      credit_type  days_credit_update  \\\n",
       "sk_id_bureau                                                                \n",
       "5000000                          0.0  Consumer credit               -2512   \n",
       "5000001                          0.0  Consumer credit                -891   \n",
       "5000002                          0.0  Consumer credit                 -23   \n",
       "5000003                          0.0  Consumer credit                 -42   \n",
       "5000004                          0.0  Consumer credit                 -17   \n",
       "\n",
       "              amt_annuity  months_balance status  \n",
       "sk_id_bureau                                      \n",
       "5000000               NaN             NaN    NaN  \n",
       "5000001               NaN             NaN    NaN  \n",
       "5000002               NaN             NaN    NaN  \n",
       "5000003               NaN             NaN    NaN  \n",
       "5000004               NaN             NaN    NaN  "
      ]
     },
     "execution_count": 53,
     "metadata": {},
     "output_type": "execute_result"
    }
   ],
   "source": [
    "joined.head()"
   ]
  },
  {
   "cell_type": "code",
   "execution_count": null,
   "metadata": {},
   "outputs": [],
   "source": []
  }
 ],
 "metadata": {
  "kernelspec": {
   "display_name": "Python 3",
   "language": "python",
   "name": "python3"
  },
  "language_info": {
   "codemirror_mode": {
    "name": "ipython",
    "version": 3
   },
   "file_extension": ".py",
   "mimetype": "text/x-python",
   "name": "python",
   "nbconvert_exporter": "python",
   "pygments_lexer": "ipython3",
   "version": "3.7.5"
  }
 },
 "nbformat": 4,
 "nbformat_minor": 2
}

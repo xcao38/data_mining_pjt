{
 "cells": [
  {
   "cell_type": "code",
   "execution_count": 115,
   "metadata": {},
   "outputs": [],
   "source": [
    "import pandas as pd\n",
    "import os\n",
    "import matplotlib.pyplot as plt\n",
    "from indoorplants.analysis import exploratory\n",
    "\n",
    "%matplotlib inline"
   ]
  },
  {
   "cell_type": "markdown",
   "metadata": {},
   "source": [
    "# 1.0 Exploratory Data Analysis\n"
   ]
  },
  {
   "cell_type": "code",
   "execution_count": 3,
   "metadata": {},
   "outputs": [],
   "source": [
    "data_path = os.path.join(os.getcwd(),\"home-credit-default-risk\")"
   ]
  },
  {
   "cell_type": "code",
   "execution_count": 108,
   "metadata": {},
   "outputs": [],
   "source": [
    "plt.style.use(\"seaborn-poster\")"
   ]
  },
  {
   "cell_type": "code",
   "execution_count": 15,
   "metadata": {},
   "outputs": [],
   "source": [
    "def clean_column_names(table):\n",
    "    table.columns = table.columns.str.replace(r'[^\\w\\s]','') \n",
    "    table.columns = table.columns.str.strip().str.replace(' ','_').str.lower()\n",
    "    return table"
   ]
  },
  {
   "cell_type": "markdown",
   "metadata": {},
   "source": [
    "## 1.1 Application_Train"
   ]
  },
  {
   "cell_type": "markdown",
   "metadata": {},
   "source": [
    "### 1.1.1 Shape"
   ]
  },
  {
   "cell_type": "code",
   "execution_count": 18,
   "metadata": {},
   "outputs": [],
   "source": [
    "app_train = pd.read_csv(os.path.join(data_path,\"application_train.csv\"))"
   ]
  },
  {
   "cell_type": "code",
   "execution_count": 19,
   "metadata": {},
   "outputs": [],
   "source": [
    "app_train = clean_column_names(app_train)"
   ]
  },
  {
   "cell_type": "code",
   "execution_count": 20,
   "metadata": {},
   "outputs": [
    {
     "data": {
      "text/plain": [
       "Index(['sk_id_curr', 'target', 'name_contract_type', 'code_gender',\n",
       "       'flag_own_car', 'flag_own_realty', 'cnt_children', 'amt_income_total',\n",
       "       'amt_credit', 'amt_annuity',\n",
       "       ...\n",
       "       'flag_document_18', 'flag_document_19', 'flag_document_20',\n",
       "       'flag_document_21', 'amt_req_credit_bureau_hour',\n",
       "       'amt_req_credit_bureau_day', 'amt_req_credit_bureau_week',\n",
       "       'amt_req_credit_bureau_mon', 'amt_req_credit_bureau_qrt',\n",
       "       'amt_req_credit_bureau_year'],\n",
       "      dtype='object', length=122)"
      ]
     },
     "execution_count": 20,
     "metadata": {},
     "output_type": "execute_result"
    }
   ],
   "source": [
    "app_train.columns"
   ]
  },
  {
   "cell_type": "code",
   "execution_count": 21,
   "metadata": {},
   "outputs": [
    {
     "data": {
      "text/plain": [
       "(307511, 122)"
      ]
     },
     "execution_count": 21,
     "metadata": {},
     "output_type": "execute_result"
    }
   ],
   "source": [
    "app_train.shape"
   ]
  },
  {
   "cell_type": "markdown",
   "metadata": {},
   "source": [
    "**Notes:**\n",
    "\n",
    "There are 121 features in the application training data. \n",
    "`target` is the label we want to predict. \n",
    "\n",
    "- 1 -  the loan was not repaid\n",
    "- 0 - the loan was repaid"
   ]
  },
  {
   "cell_type": "code",
   "execution_count": 22,
   "metadata": {},
   "outputs": [
    {
     "data": {
      "text/plain": [
       "0    282686\n",
       "1     24825\n",
       "Name: target, dtype: int64"
      ]
     },
     "execution_count": 22,
     "metadata": {},
     "output_type": "execute_result"
    }
   ],
   "source": [
    "app_train.target.value_counts()"
   ]
  },
  {
   "cell_type": "code",
   "execution_count": 23,
   "metadata": {},
   "outputs": [
    {
     "data": {
      "text/plain": [
       "0    0.919271\n",
       "1    0.080729\n",
       "Name: target, dtype: float64"
      ]
     },
     "execution_count": 23,
     "metadata": {},
     "output_type": "execute_result"
    }
   ],
   "source": [
    "app_train.target.value_counts(normalize = True)"
   ]
  },
  {
   "cell_type": "markdown",
   "metadata": {},
   "source": [
    "We can tell that there are around 92% of the examples in the positive class (0) and there are around 8% of examples in the negative class (1)."
   ]
  },
  {
   "cell_type": "markdown",
   "metadata": {},
   "source": [
    "### 1.1.2 Nulls"
   ]
  },
  {
   "cell_type": "code",
   "execution_count": 40,
   "metadata": {},
   "outputs": [],
   "source": [
    "null_stats = app_train.isnull().sum().to_frame()"
   ]
  },
  {
   "cell_type": "code",
   "execution_count": 44,
   "metadata": {},
   "outputs": [],
   "source": [
    "null_stats = null_stats[(null_stats!=0).all(axis = 1)]\n",
    "null_stats.columns = ['num_of_null']"
   ]
  },
  {
   "cell_type": "code",
   "execution_count": 46,
   "metadata": {},
   "outputs": [
    {
     "name": "stderr",
     "output_type": "stream",
     "text": [
      "/anaconda3/lib/python3.7/site-packages/ipykernel_launcher.py:1: SettingWithCopyWarning: \n",
      "A value is trying to be set on a copy of a slice from a DataFrame.\n",
      "Try using .loc[row_indexer,col_indexer] = value instead\n",
      "\n",
      "See the caveats in the documentation: http://pandas.pydata.org/pandas-docs/stable/user_guide/indexing.html#returning-a-view-versus-a-copy\n",
      "  \"\"\"Entry point for launching an IPython kernel.\n"
     ]
    }
   ],
   "source": [
    "null_stats['normalize_of_null'] = null_stats['num_of_null']/len(app_train)"
   ]
  },
  {
   "cell_type": "code",
   "execution_count": 79,
   "metadata": {},
   "outputs": [
    {
     "data": {
      "text/html": [
       "<div>\n",
       "<style scoped>\n",
       "    .dataframe tbody tr th:only-of-type {\n",
       "        vertical-align: middle;\n",
       "    }\n",
       "\n",
       "    .dataframe tbody tr th {\n",
       "        vertical-align: top;\n",
       "    }\n",
       "\n",
       "    .dataframe thead th {\n",
       "        text-align: right;\n",
       "    }\n",
       "</style>\n",
       "<table border=\"1\" class=\"dataframe\">\n",
       "  <thead>\n",
       "    <tr style=\"text-align: right;\">\n",
       "      <th></th>\n",
       "      <th>num_of_null</th>\n",
       "      <th>normalize_of_null</th>\n",
       "    </tr>\n",
       "  </thead>\n",
       "  <tbody>\n",
       "    <tr>\n",
       "      <td>totalarea_mode</td>\n",
       "      <td>148431</td>\n",
       "      <td>0.482685</td>\n",
       "    </tr>\n",
       "    <tr>\n",
       "      <td>emergencystate_mode</td>\n",
       "      <td>145755</td>\n",
       "      <td>0.473983</td>\n",
       "    </tr>\n",
       "    <tr>\n",
       "      <td>occupation_type</td>\n",
       "      <td>96391</td>\n",
       "      <td>0.313455</td>\n",
       "    </tr>\n",
       "    <tr>\n",
       "      <td>ext_source_3</td>\n",
       "      <td>60965</td>\n",
       "      <td>0.198253</td>\n",
       "    </tr>\n",
       "    <tr>\n",
       "      <td>amt_req_credit_bureau_week</td>\n",
       "      <td>41519</td>\n",
       "      <td>0.135016</td>\n",
       "    </tr>\n",
       "    <tr>\n",
       "      <td>amt_req_credit_bureau_day</td>\n",
       "      <td>41519</td>\n",
       "      <td>0.135016</td>\n",
       "    </tr>\n",
       "    <tr>\n",
       "      <td>amt_req_credit_bureau_mon</td>\n",
       "      <td>41519</td>\n",
       "      <td>0.135016</td>\n",
       "    </tr>\n",
       "    <tr>\n",
       "      <td>amt_req_credit_bureau_qrt</td>\n",
       "      <td>41519</td>\n",
       "      <td>0.135016</td>\n",
       "    </tr>\n",
       "    <tr>\n",
       "      <td>amt_req_credit_bureau_hour</td>\n",
       "      <td>41519</td>\n",
       "      <td>0.135016</td>\n",
       "    </tr>\n",
       "    <tr>\n",
       "      <td>amt_req_credit_bureau_year</td>\n",
       "      <td>41519</td>\n",
       "      <td>0.135016</td>\n",
       "    </tr>\n",
       "    <tr>\n",
       "      <td>name_type_suite</td>\n",
       "      <td>1292</td>\n",
       "      <td>0.004201</td>\n",
       "    </tr>\n",
       "    <tr>\n",
       "      <td>def_30_cnt_social_circle</td>\n",
       "      <td>1021</td>\n",
       "      <td>0.003320</td>\n",
       "    </tr>\n",
       "    <tr>\n",
       "      <td>obs_60_cnt_social_circle</td>\n",
       "      <td>1021</td>\n",
       "      <td>0.003320</td>\n",
       "    </tr>\n",
       "    <tr>\n",
       "      <td>def_60_cnt_social_circle</td>\n",
       "      <td>1021</td>\n",
       "      <td>0.003320</td>\n",
       "    </tr>\n",
       "    <tr>\n",
       "      <td>obs_30_cnt_social_circle</td>\n",
       "      <td>1021</td>\n",
       "      <td>0.003320</td>\n",
       "    </tr>\n",
       "    <tr>\n",
       "      <td>ext_source_2</td>\n",
       "      <td>660</td>\n",
       "      <td>0.002146</td>\n",
       "    </tr>\n",
       "    <tr>\n",
       "      <td>amt_goods_price</td>\n",
       "      <td>278</td>\n",
       "      <td>0.000904</td>\n",
       "    </tr>\n",
       "    <tr>\n",
       "      <td>amt_annuity</td>\n",
       "      <td>12</td>\n",
       "      <td>0.000039</td>\n",
       "    </tr>\n",
       "    <tr>\n",
       "      <td>cnt_fam_members</td>\n",
       "      <td>2</td>\n",
       "      <td>0.000007</td>\n",
       "    </tr>\n",
       "    <tr>\n",
       "      <td>days_last_phone_change</td>\n",
       "      <td>1</td>\n",
       "      <td>0.000003</td>\n",
       "    </tr>\n",
       "  </tbody>\n",
       "</table>\n",
       "</div>"
      ],
      "text/plain": [
       "                            num_of_null  normalize_of_null\n",
       "totalarea_mode                   148431           0.482685\n",
       "emergencystate_mode              145755           0.473983\n",
       "occupation_type                   96391           0.313455\n",
       "ext_source_3                      60965           0.198253\n",
       "amt_req_credit_bureau_week        41519           0.135016\n",
       "amt_req_credit_bureau_day         41519           0.135016\n",
       "amt_req_credit_bureau_mon         41519           0.135016\n",
       "amt_req_credit_bureau_qrt         41519           0.135016\n",
       "amt_req_credit_bureau_hour        41519           0.135016\n",
       "amt_req_credit_bureau_year        41519           0.135016\n",
       "name_type_suite                    1292           0.004201\n",
       "def_30_cnt_social_circle           1021           0.003320\n",
       "obs_60_cnt_social_circle           1021           0.003320\n",
       "def_60_cnt_social_circle           1021           0.003320\n",
       "obs_30_cnt_social_circle           1021           0.003320\n",
       "ext_source_2                        660           0.002146\n",
       "amt_goods_price                     278           0.000904\n",
       "amt_annuity                          12           0.000039\n",
       "cnt_fam_members                       2           0.000007\n",
       "days_last_phone_change                1           0.000003"
      ]
     },
     "execution_count": 79,
     "metadata": {},
     "output_type": "execute_result"
    }
   ],
   "source": [
    "null_stats.sort_values(by='num_of_null',ascending = False)[-20:]"
   ]
  },
  {
   "cell_type": "markdown",
   "metadata": {},
   "source": [
    "**Notes:**\n",
    "\n",
    "- I found that there are large amount of information about the clients are null (more than 50%). \n",
    "- This could be that the info of clients buildings are hard to get. \n",
    "\n",
    "- Therefore, building informations may not be ideal features to predict the default probability."
   ]
  },
  {
   "cell_type": "markdown",
   "metadata": {},
   "source": [
    "### 1.1.3 Duplicates"
   ]
  },
  {
   "cell_type": "code",
   "execution_count": 68,
   "metadata": {},
   "outputs": [
    {
     "data": {
      "text/plain": [
       "0"
      ]
     },
     "execution_count": 68,
     "metadata": {},
     "output_type": "execute_result"
    }
   ],
   "source": [
    "app_train.duplicated().sum()"
   ]
  },
  {
   "cell_type": "markdown",
   "metadata": {},
   "source": [
    "There is NO duplicated examples in the training table."
   ]
  },
  {
   "cell_type": "markdown",
   "metadata": {},
   "source": [
    "### 1.1.4 Features"
   ]
  },
  {
   "cell_type": "code",
   "execution_count": 82,
   "metadata": {},
   "outputs": [],
   "source": [
    "columns_list = app_train.columns.tolist()"
   ]
  },
  {
   "cell_type": "code",
   "execution_count": 123,
   "metadata": {},
   "outputs": [],
   "source": [
    "columns_type = app_train.dtypes.to_frame()"
   ]
  },
  {
   "cell_type": "code",
   "execution_count": 125,
   "metadata": {},
   "outputs": [],
   "source": [
    "columns_type.columns = ['data_type']"
   ]
  },
  {
   "cell_type": "code",
   "execution_count": 131,
   "metadata": {},
   "outputs": [
    {
     "data": {
      "text/plain": [
       "float64    65\n",
       "int64      41\n",
       "object     16\n",
       "Name: data_type, dtype: int64"
      ]
     },
     "execution_count": 131,
     "metadata": {},
     "output_type": "execute_result"
    }
   ],
   "source": [
    "columns_type.data_type.value_counts()"
   ]
  },
  {
   "cell_type": "markdown",
   "metadata": {},
   "source": [
    "Let's particularly take a look at the features with `object` type."
   ]
  },
  {
   "cell_type": "code",
   "execution_count": 134,
   "metadata": {},
   "outputs": [
    {
     "data": {
      "text/plain": [
       "['name_contract_type',\n",
       " 'code_gender',\n",
       " 'flag_own_car',\n",
       " 'flag_own_realty',\n",
       " 'name_type_suite',\n",
       " 'name_income_type',\n",
       " 'name_education_type',\n",
       " 'name_family_status',\n",
       " 'name_housing_type',\n",
       " 'occupation_type',\n",
       " 'weekday_appr_process_start',\n",
       " 'organization_type',\n",
       " 'fondkapremont_mode',\n",
       " 'housetype_mode',\n",
       " 'wallsmaterial_mode',\n",
       " 'emergencystate_mode']"
      ]
     },
     "execution_count": 134,
     "metadata": {},
     "output_type": "execute_result"
    }
   ],
   "source": [
    "object_columns = columns_type[columns_type.data_type == 'object'].index.tolist()\n",
    "object_columns"
   ]
  },
  {
   "cell_type": "code",
   "execution_count": 138,
   "metadata": {
    "scrolled": true
   },
   "outputs": [
    {
     "name": "stdout",
     "output_type": "stream",
     "text": [
      "\n",
      " name_contract_type \n",
      "\n",
      "Cash loans         278232\n",
      "Revolving loans     29279\n",
      "Name: name_contract_type, dtype: int64\n",
      "\n",
      " code_gender \n",
      "\n",
      "F      202448\n",
      "M      105059\n",
      "XNA         4\n",
      "Name: code_gender, dtype: int64\n",
      "\n",
      " flag_own_car \n",
      "\n",
      "N    202924\n",
      "Y    104587\n",
      "Name: flag_own_car, dtype: int64\n",
      "\n",
      " flag_own_realty \n",
      "\n",
      "Y    213312\n",
      "N     94199\n",
      "Name: flag_own_realty, dtype: int64\n",
      "\n",
      " name_type_suite \n",
      "\n",
      "Unaccompanied      248526\n",
      "Family              40149\n",
      "Spouse, partner     11370\n",
      "Children             3267\n",
      "Other_B              1770\n",
      "Other_A               866\n",
      "Group of people       271\n",
      "Name: name_type_suite, dtype: int64\n",
      "\n",
      " name_income_type \n",
      "\n",
      "Working                 158774\n",
      "Commercial associate     71617\n",
      "Pensioner                55362\n",
      "State servant            21703\n",
      "Unemployed                  22\n",
      "Student                     18\n",
      "Businessman                 10\n",
      "Maternity leave              5\n",
      "Name: name_income_type, dtype: int64\n",
      "\n",
      " name_education_type \n",
      "\n",
      "Secondary / secondary special    218391\n",
      "Higher education                  74863\n",
      "Incomplete higher                 10277\n",
      "Lower secondary                    3816\n",
      "Academic degree                     164\n",
      "Name: name_education_type, dtype: int64\n",
      "\n",
      " name_family_status \n",
      "\n",
      "Married                 196432\n",
      "Single / not married     45444\n",
      "Civil marriage           29775\n",
      "Separated                19770\n",
      "Widow                    16088\n",
      "Unknown                      2\n",
      "Name: name_family_status, dtype: int64\n",
      "\n",
      " name_housing_type \n",
      "\n",
      "House / apartment      272868\n",
      "With parents            14840\n",
      "Municipal apartment     11183\n",
      "Rented apartment         4881\n",
      "Office apartment         2617\n",
      "Co-op apartment          1122\n",
      "Name: name_housing_type, dtype: int64\n",
      "\n",
      " occupation_type \n",
      "\n",
      "Laborers                 55186\n",
      "Sales staff              32102\n",
      "Core staff               27570\n",
      "Managers                 21371\n",
      "Drivers                  18603\n",
      "High skill tech staff    11380\n",
      "Accountants               9813\n",
      "Medicine staff            8537\n",
      "Security staff            6721\n",
      "Cooking staff             5946\n",
      "Cleaning staff            4653\n",
      "Private service staff     2652\n",
      "Low-skill Laborers        2093\n",
      "Waiters/barmen staff      1348\n",
      "Secretaries               1305\n",
      "Realty agents              751\n",
      "HR staff                   563\n",
      "IT staff                   526\n",
      "Name: occupation_type, dtype: int64\n",
      "\n",
      " weekday_appr_process_start \n",
      "\n",
      "TUESDAY      53901\n",
      "WEDNESDAY    51934\n",
      "MONDAY       50714\n",
      "THURSDAY     50591\n",
      "FRIDAY       50338\n",
      "SATURDAY     33852\n",
      "SUNDAY       16181\n",
      "Name: weekday_appr_process_start, dtype: int64\n",
      "\n",
      " organization_type \n",
      "\n",
      "Business Entity Type 3    67992\n",
      "XNA                       55374\n",
      "Self-employed             38412\n",
      "Other                     16683\n",
      "Medicine                  11193\n",
      "Business Entity Type 2    10553\n",
      "Government                10404\n",
      "School                     8893\n",
      "Trade: type 7              7831\n",
      "Kindergarten               6880\n",
      "Construction               6721\n",
      "Business Entity Type 1     5984\n",
      "Transport: type 4          5398\n",
      "Trade: type 3              3492\n",
      "Industry: type 9           3368\n",
      "Industry: type 3           3278\n",
      "Security                   3247\n",
      "Housing                    2958\n",
      "Industry: type 11          2704\n",
      "Military                   2634\n",
      "Bank                       2507\n",
      "Agriculture                2454\n",
      "Police                     2341\n",
      "Transport: type 2          2204\n",
      "Postal                     2157\n",
      "Security Ministries        1974\n",
      "Trade: type 2              1900\n",
      "Restaurant                 1811\n",
      "Services                   1575\n",
      "University                 1327\n",
      "Industry: type 7           1307\n",
      "Transport: type 3          1187\n",
      "Industry: type 1           1039\n",
      "Hotel                       966\n",
      "Electricity                 950\n",
      "Industry: type 4            877\n",
      "Trade: type 6               631\n",
      "Industry: type 5            599\n",
      "Insurance                   597\n",
      "Telecom                     577\n",
      "Emergency                   560\n",
      "Industry: type 2            458\n",
      "Advertising                 429\n",
      "Realtor                     396\n",
      "Culture                     379\n",
      "Industry: type 12           369\n",
      "Trade: type 1               348\n",
      "Mobile                      317\n",
      "Legal Services              305\n",
      "Cleaning                    260\n",
      "Transport: type 1           201\n",
      "Industry: type 6            112\n",
      "Industry: type 10           109\n",
      "Religion                     85\n",
      "Industry: type 13            67\n",
      "Trade: type 4                64\n",
      "Trade: type 5                49\n",
      "Industry: type 8             24\n",
      "Name: organization_type, dtype: int64\n",
      "\n",
      " fondkapremont_mode \n",
      "\n",
      "reg oper account         73830\n",
      "reg oper spec account    12080\n",
      "not specified             5687\n",
      "org spec account          5619\n",
      "Name: fondkapremont_mode, dtype: int64\n",
      "\n",
      " housetype_mode \n",
      "\n",
      "block of flats      150503\n",
      "specific housing      1499\n",
      "terraced house        1212\n",
      "Name: housetype_mode, dtype: int64\n",
      "\n",
      " wallsmaterial_mode \n",
      "\n",
      "Panel           66040\n",
      "Stone, brick    64815\n",
      "Block            9253\n",
      "Wooden           5362\n",
      "Mixed            2296\n",
      "Monolithic       1779\n",
      "Others           1625\n",
      "Name: wallsmaterial_mode, dtype: int64\n",
      "\n",
      " emergencystate_mode \n",
      "\n",
      "No     159428\n",
      "Yes      2328\n",
      "Name: emergencystate_mode, dtype: int64\n"
     ]
    }
   ],
   "source": [
    "for i in object_columns:\n",
    "    print('\\n',i,'\\n')\n",
    "    print(app_train[i].value_counts())"
   ]
  },
  {
   "cell_type": "markdown",
   "metadata": {},
   "source": [
    "**Notes**\n",
    "- Interesting information\n",
    "- We will need to use one hot encoding for modelling later"
   ]
  },
  {
   "cell_type": "markdown",
   "metadata": {},
   "source": [
    "#### 1.1.4.1 Number of Enquiries to Credit Bureau"
   ]
  },
  {
   "cell_type": "code",
   "execution_count": 90,
   "metadata": {},
   "outputs": [
    {
     "data": {
      "text/plain": [
       "['amt_req_credit_bureau_hour',\n",
       " 'amt_req_credit_bureau_day',\n",
       " 'amt_req_credit_bureau_week',\n",
       " 'amt_req_credit_bureau_mon',\n",
       " 'amt_req_credit_bureau_qrt',\n",
       " 'amt_req_credit_bureau_year']"
      ]
     },
     "execution_count": 90,
     "metadata": {},
     "output_type": "execute_result"
    }
   ],
   "source": [
    "bureau_list =[i for i in columns_list if 'bureau' in i]\n",
    "bureau_list"
   ]
  },
  {
   "cell_type": "markdown",
   "metadata": {},
   "source": [
    "**Data Description**\n",
    "- Number of enquiries to Credit Bureau about the client one hour before application\n",
    "- Number of enquiries to Credit Bureau about the client one day before application (excluding one hour before application)\n",
    "- Number of enquiries to Credit Bureau about the client one week before application (excluding one day before application)\n",
    "- Number of enquiries to Credit Bureau about the client one month before application (excluding one week before application)\n",
    "- Number of enquiries to Credit Bureau about the client 3 month before application (excluding one month before application)\n",
    "- Number of enquiries to Credit Bureau about the client one day year (excluding last 3 months before application)"
   ]
  },
  {
   "cell_type": "code",
   "execution_count": 110,
   "metadata": {
    "scrolled": true
   },
   "outputs": [
    {
     "name": "stdout",
     "output_type": "stream",
     "text": [
      "0.0    264366\n",
      "1.0      1560\n",
      "2.0        56\n",
      "3.0         9\n",
      "4.0         1\n",
      "Name: amt_req_credit_bureau_hour, dtype: int64\n",
      "0.0    264503\n",
      "1.0      1292\n",
      "2.0       106\n",
      "3.0        45\n",
      "4.0        26\n",
      "5.0         9\n",
      "6.0         8\n",
      "9.0         2\n",
      "8.0         1\n",
      "Name: amt_req_credit_bureau_day, dtype: int64\n",
      "0.0    257456\n",
      "1.0      8208\n",
      "2.0       199\n",
      "3.0        58\n",
      "4.0        34\n",
      "6.0        20\n",
      "5.0        10\n",
      "8.0         5\n",
      "7.0         2\n",
      "Name: amt_req_credit_bureau_week, dtype: int64\n",
      "0.0     222233\n",
      "1.0      33147\n",
      "2.0       5386\n",
      "3.0       1991\n",
      "4.0       1076\n",
      "5.0        602\n",
      "6.0        343\n",
      "7.0        298\n",
      "9.0        206\n",
      "8.0        185\n",
      "10.0       132\n",
      "11.0       119\n",
      "12.0        77\n",
      "13.0        72\n",
      "14.0        40\n",
      "15.0        35\n",
      "16.0        23\n",
      "17.0        14\n",
      "18.0         6\n",
      "19.0         3\n",
      "24.0         1\n",
      "27.0         1\n",
      "22.0         1\n",
      "23.0         1\n",
      "Name: amt_req_credit_bureau_mon, dtype: int64\n",
      "0.0      215417\n",
      "1.0       33862\n",
      "2.0       14412\n",
      "3.0        1717\n",
      "4.0         476\n",
      "5.0          64\n",
      "6.0          28\n",
      "7.0           7\n",
      "8.0           7\n",
      "19.0          1\n",
      "261.0         1\n",
      "Name: amt_req_credit_bureau_qrt, dtype: int64\n",
      "0.0     71801\n",
      "1.0     63405\n",
      "2.0     50192\n",
      "3.0     33628\n",
      "4.0     20714\n",
      "5.0     12052\n",
      "6.0      6967\n",
      "7.0      3869\n",
      "8.0      2127\n",
      "9.0      1096\n",
      "11.0       31\n",
      "12.0       30\n",
      "10.0       22\n",
      "13.0       19\n",
      "14.0       10\n",
      "17.0        7\n",
      "15.0        6\n",
      "19.0        4\n",
      "18.0        4\n",
      "16.0        3\n",
      "21.0        1\n",
      "23.0        1\n",
      "25.0        1\n",
      "20.0        1\n",
      "22.0        1\n",
      "Name: amt_req_credit_bureau_year, dtype: int64\n"
     ]
    }
   ],
   "source": [
    "for i in bureau_list:\n",
    "    print(app_train[i].value_counts())\n",
    "    "
   ]
  },
  {
   "cell_type": "markdown",
   "metadata": {},
   "source": [
    "#### 1.1.4.2 Clients' Building Information\n"
   ]
  },
  {
   "cell_type": "markdown",
   "metadata": {},
   "source": [
    "**Notes**:\n",
    "\n",
    "Normalized information about building where the client lives, \n",
    "What is average (_AVG suffix), \n",
    "modus (_MODE suffix), \n",
    "median (_MEDI suffix) \n",
    "\n",
    "- apartment size, \n",
    "- common area, \n",
    "- living area, \n",
    "- age of building, \n",
    "- number of elevators, \n",
    "- number of entrances, \n",
    "- state of the building, \n",
    "- number of floor"
   ]
  },
  {
   "cell_type": "code",
   "execution_count": 118,
   "metadata": {},
   "outputs": [
    {
     "data": {
      "text/plain": [
       "['apartments_avg',\n",
       " 'basementarea_avg',\n",
       " 'years_beginexpluatation_avg',\n",
       " 'years_build_avg',\n",
       " 'commonarea_avg',\n",
       " 'elevators_avg',\n",
       " 'entrances_avg',\n",
       " 'floorsmax_avg',\n",
       " 'floorsmin_avg',\n",
       " 'landarea_avg',\n",
       " 'livingapartments_avg',\n",
       " 'livingarea_avg',\n",
       " 'nonlivingapartments_avg',\n",
       " 'nonlivingarea_avg']"
      ]
     },
     "execution_count": 118,
     "metadata": {},
     "output_type": "execute_result"
    }
   ],
   "source": [
    "avg_list = [i for i in app_train.columns if 'avg' in i]\n",
    "avg_list"
   ]
  },
  {
   "cell_type": "code",
   "execution_count": 64,
   "metadata": {},
   "outputs": [],
   "source": [
    "mode_list = [i for i in app_train.columns if 'mode' in i]"
   ]
  },
  {
   "cell_type": "code",
   "execution_count": 65,
   "metadata": {},
   "outputs": [],
   "source": [
    "medi_list = [i for i in app_train.columns if 'medi' in i]"
   ]
  },
  {
   "cell_type": "code",
   "execution_count": null,
   "metadata": {},
   "outputs": [],
   "source": []
  },
  {
   "cell_type": "code",
   "execution_count": null,
   "metadata": {},
   "outputs": [],
   "source": []
  },
  {
   "cell_type": "code",
   "execution_count": null,
   "metadata": {},
   "outputs": [],
   "source": []
  },
  {
   "cell_type": "code",
   "execution_count": null,
   "metadata": {},
   "outputs": [],
   "source": []
  },
  {
   "cell_type": "code",
   "execution_count": null,
   "metadata": {},
   "outputs": [],
   "source": []
  },
  {
   "cell_type": "code",
   "execution_count": null,
   "metadata": {},
   "outputs": [],
   "source": []
  },
  {
   "cell_type": "code",
   "execution_count": null,
   "metadata": {},
   "outputs": [],
   "source": []
  },
  {
   "cell_type": "code",
   "execution_count": null,
   "metadata": {},
   "outputs": [],
   "source": []
  },
  {
   "cell_type": "code",
   "execution_count": null,
   "metadata": {},
   "outputs": [],
   "source": []
  },
  {
   "cell_type": "code",
   "execution_count": null,
   "metadata": {},
   "outputs": [],
   "source": []
  },
  {
   "cell_type": "code",
   "execution_count": 5,
   "metadata": {},
   "outputs": [],
   "source": [
    "bureau = pd.read_csv(os.path.join(data_path,\"bureau.csv\"))"
   ]
  },
  {
   "cell_type": "code",
   "execution_count": null,
   "metadata": {},
   "outputs": [],
   "source": []
  },
  {
   "cell_type": "code",
   "execution_count": null,
   "metadata": {},
   "outputs": [],
   "source": []
  },
  {
   "cell_type": "code",
   "execution_count": null,
   "metadata": {},
   "outputs": [],
   "source": []
  },
  {
   "cell_type": "code",
   "execution_count": 7,
   "metadata": {},
   "outputs": [],
   "source": [
    "bureau_balance = pd.read_csv(os.path.join(data_path,\"bureau_balance.csv\"))"
   ]
  },
  {
   "cell_type": "code",
   "execution_count": null,
   "metadata": {},
   "outputs": [],
   "source": []
  }
 ],
 "metadata": {
  "kernelspec": {
   "display_name": "Python 3",
   "language": "python",
   "name": "python3"
  },
  "language_info": {
   "codemirror_mode": {
    "name": "ipython",
    "version": 3
   },
   "file_extension": ".py",
   "mimetype": "text/x-python",
   "name": "python",
   "nbconvert_exporter": "python",
   "pygments_lexer": "ipython3",
   "version": "3.7.1"
  }
 },
 "nbformat": 4,
 "nbformat_minor": 2
}
